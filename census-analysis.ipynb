{
 "cells": [
  {
   "cell_type": "markdown",
   "metadata": {},
   "source": [
    "## MIE1624 Assignment 2 - Bonus"
   ]
  },
  {
   "cell_type": "code",
   "execution_count": 1,
   "metadata": {
    "collapsed": true
   },
   "outputs": [],
   "source": [
    "# General libraries\n",
    "import pandas as pd\n",
    "import numpy as np\n",
    "\n",
    "# Libraries for model training\n",
    "from sklearn.ensemble import GradientBoostingClassifier\n",
    "from sklearn.metrics import confusion_matrix"
   ]
  },
  {
   "cell_type": "code",
   "execution_count": 2,
   "metadata": {
    "collapsed": false
   },
   "outputs": [],
   "source": [
    "def clean(df):\n",
    "    '''\n",
    "    Cleans the data\n",
    "    '''\n",
    "    # Remove empty values\n",
    "    df = df[~df.isnull().any(axis=1)]\n",
    "    \n",
    "    df_y = df['IncomeBracket']\n",
    "    df_X = df.drop(labels=['IncomeBracket'], axis=1)\n",
    "    \n",
    "    # Convert the target into numerical\n",
    "    dic1 = {\"<50K\": 0, \"50-100K\": 1, \">100K\": 2}\n",
    "    df_y = df_y.map(dic1)\n",
    "    \n",
    "    # Remove Education and HoursPerWeek\n",
    "    df_X = df_X.drop(labels=['Education', 'HoursPerWeek'], axis=1)\n",
    "    # Create NetGain and remove CapitalGian and CapitalLoss\n",
    "    net_gain = df_X['CapitalGain'] - df_X['CapitalLoss']\n",
    "    df_X.insert(loc=3, column='NetGain', value=net_gain)\n",
    "    df_X = df_X.drop(labels=['CapitalGain', 'CapitalLoss'], axis=1)\n",
    "    # Convert MaritalStatus\n",
    "    dic2 = {\"Married-civ-spouse\": 1, \"Divorced\": 0, \"Never-married\": 0, \"Separated\": 1,\n",
    "       \"Widowed\": 0, \"Married-spouse-absent\": 1, \"Married-AF-spouse\": 1}\n",
    "    df_X['MaritalStatus'] = df_X['MaritalStatus'].map(dic2)\n",
    "    # \n",
    "    dic3 = {\"United-States\": 1}\n",
    "    df_X['NativeCountry'] = df_X['NativeCountry'].map(dic3)\n",
    "    df_X['NativeCountry'].fillna(0, inplace=True)\n",
    "    \n",
    "    #Convert the feature variables into numerical\n",
    "    df_X = pd.get_dummies(df_X, drop_first=True)\n",
    "    \n",
    "    return df_X, df_y"
   ]
  },
  {
   "cell_type": "code",
   "execution_count": 3,
   "metadata": {
    "collapsed": true
   },
   "outputs": [],
   "source": [
    "def fix_columns(columns, df): \n",
    "    '''\n",
    "    Fix the columns to make sure df has the same number of columns as the model requires\n",
    "    '''\n",
    "    # Add missing dummy columns\n",
    "    missing_cols = set(columns) - set(df.columns)\n",
    "    for c in missing_cols:\n",
    "        df[c] = 0\n",
    "\n",
    "    # Make sure we have all the columns we need\n",
    "    assert(set(columns) - set(df.columns) == set())\n",
    "\n",
    "    extra_cols = set(df.columns) - set(columns)\n",
    "    if extra_cols:\n",
    "        print(\"extra columns:\", extra_cols)\n",
    "\n",
    "    df = df[columns]\n",
    "    return df"
   ]
  },
  {
   "cell_type": "code",
   "execution_count": 4,
   "metadata": {
    "collapsed": false
   },
   "outputs": [],
   "source": [
    " def bonus(training_file_path, testing_file_path):\n",
    "    # Clean the training data\n",
    "    training = pd.read_csv(training_file_path)\n",
    "    X_train, y_train = clean(training)\n",
    "        \n",
    "    # Train the model with optimal parameter\n",
    "    gb = GradientBoostingClassifier(n_estimators=100)\n",
    "    gb.fit(X_train, y_train)\n",
    "        \n",
    "    # Clean the testing data\n",
    "    testing = pd.read_csv(testing_file_path)\n",
    "    X_test, y_test = clean(testing)\n",
    "    X_test = fix_columns(X_train.columns, X_test)\n",
    "        \n",
    "    # Predict the labels of testing data\n",
    "    predictions = gb.predict(X_test)\n",
    "    dic = {0: \"<50K\", 1: \"50-100K\", 2: \">100K\"}\n",
    "    income_brackets = pd.DataFrame({'IncomeBracket':predictions.tolist()})['IncomeBracket'].map(dic)\n",
    "        \n",
    "    # Write predicted labels in csv file\n",
    "    np.savetxt(\"predicted_labels.csv\", income_brackets, fmt='%s', delimiter=',', header='IncomeBracket')"
   ]
  },
  {
   "cell_type": "code",
   "execution_count": 5,
   "metadata": {
    "collapsed": false
   },
   "outputs": [],
   "source": [
    "# This is for my own testing\n",
    "bonus('income-training.csv', 'income-testing.csv')"
   ]
  }
 ],
 "metadata": {
  "kernelspec": {
   "display_name": "Python 3",
   "language": "python",
   "name": "python3"
  },
  "language_info": {
   "codemirror_mode": {
    "name": "ipython",
    "version": 3
   },
   "file_extension": ".py",
   "mimetype": "text/x-python",
   "name": "python",
   "nbconvert_exporter": "python",
   "pygments_lexer": "ipython3",
   "version": "3.6.0"
  }
 },
 "nbformat": 4,
 "nbformat_minor": 2
}
